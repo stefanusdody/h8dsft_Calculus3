{
 "cells": [
  {
   "cell_type": "markdown",
   "id": "8588851f",
   "metadata": {},
   "source": [
    "### carilah gradien dari suatu fungsi:\n",
    "\n",
    "$$3x + 4y = 5$$"
   ]
  },
  {
   "cell_type": "code",
   "execution_count": 1,
   "id": "f21ea52a",
   "metadata": {},
   "outputs": [],
   "source": [
    "# import libraries\n",
    "import numpy as np\n",
    "import sympy as sy"
   ]
  },
  {
   "cell_type": "markdown",
   "id": "4b3bbe45",
   "metadata": {},
   "source": [
    "merubah fungsi menjadi:\n",
    "\n",
    "$f = 3x + 4y - 5$"
   ]
  },
  {
   "cell_type": "code",
   "execution_count": 2,
   "id": "aa59430d",
   "metadata": {},
   "outputs": [],
   "source": [
    "x, y = sy.symbols('x y', real=True)"
   ]
  },
  {
   "cell_type": "code",
   "execution_count": 3,
   "id": "10c187b8",
   "metadata": {},
   "outputs": [],
   "source": [
    "f = 3*x+4*y-5"
   ]
  },
  {
   "cell_type": "code",
   "execution_count": 4,
   "id": "258022a9",
   "metadata": {},
   "outputs": [
    {
     "data": {
      "text/latex": [
       "$\\displaystyle 3$"
      ],
      "text/plain": [
       "3"
      ]
     },
     "execution_count": 4,
     "metadata": {},
     "output_type": "execute_result"
    }
   ],
   "source": [
    "sy.diff(f, x)"
   ]
  },
  {
   "cell_type": "markdown",
   "id": "5ab62558",
   "metadata": {},
   "source": [
    "$ \\dfrac{\\partial f}{\\partial x} = 3$"
   ]
  },
  {
   "cell_type": "code",
   "execution_count": 5,
   "id": "176dc02a",
   "metadata": {},
   "outputs": [
    {
     "data": {
      "text/latex": [
       "$\\displaystyle 4$"
      ],
      "text/plain": [
       "4"
      ]
     },
     "execution_count": 5,
     "metadata": {},
     "output_type": "execute_result"
    }
   ],
   "source": [
    "sy.diff(f, y)"
   ]
  },
  {
   "cell_type": "markdown",
   "id": "7d2b1b0f",
   "metadata": {},
   "source": [
    "$ \\dfrac{\\partial f}{\\partial y} = 4$"
   ]
  },
  {
   "cell_type": "code",
   "execution_count": null,
   "id": "0b7d6ec9",
   "metadata": {},
   "outputs": [],
   "source": []
  }
 ],
 "metadata": {
  "kernelspec": {
   "display_name": "Python 3",
   "language": "python",
   "name": "python3"
  },
  "language_info": {
   "codemirror_mode": {
    "name": "ipython",
    "version": 3
   },
   "file_extension": ".py",
   "mimetype": "text/x-python",
   "name": "python",
   "nbconvert_exporter": "python",
   "pygments_lexer": "ipython3",
   "version": "3.8.5"
  }
 },
 "nbformat": 4,
 "nbformat_minor": 5
}
